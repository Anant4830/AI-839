{
 "cells": [
  {
   "cell_type": "code",
   "execution_count": null,
   "metadata": {},
   "outputs": [],
   "source": [
    "#installing openml package\n",
    "#!pip install openml"
   ]
  },
  {
   "cell_type": "code",
   "execution_count": 40,
   "metadata": {},
   "outputs": [
    {
     "data": {
      "text/plain": [
       "'1.26.4'"
      ]
     },
     "execution_count": 40,
     "metadata": {},
     "output_type": "execute_result"
    }
   ],
   "source": [
    "import numpy as np\n",
    "#numpy version should be less than 2 for openml to work\n",
    "np.__version__"
   ]
  },
  {
   "cell_type": "code",
   "execution_count": 41,
   "metadata": {},
   "outputs": [
    {
     "data": {
      "text/html": [
       "<div>\n",
       "<style scoped>\n",
       "    .dataframe tbody tr th:only-of-type {\n",
       "        vertical-align: middle;\n",
       "    }\n",
       "\n",
       "    .dataframe tbody tr th {\n",
       "        vertical-align: top;\n",
       "    }\n",
       "\n",
       "    .dataframe thead th {\n",
       "        text-align: right;\n",
       "    }\n",
       "</style>\n",
       "<table border=\"1\" class=\"dataframe\">\n",
       "  <thead>\n",
       "    <tr style=\"text-align: right;\">\n",
       "      <th></th>\n",
       "      <th>did</th>\n",
       "      <th>name</th>\n",
       "      <th>version</th>\n",
       "      <th>uploader</th>\n",
       "      <th>status</th>\n",
       "      <th>format</th>\n",
       "      <th>MajorityClassSize</th>\n",
       "      <th>MaxNominalAttDistinctValues</th>\n",
       "      <th>MinorityClassSize</th>\n",
       "      <th>NumberOfClasses</th>\n",
       "      <th>NumberOfFeatures</th>\n",
       "      <th>NumberOfInstances</th>\n",
       "      <th>NumberOfInstancesWithMissingValues</th>\n",
       "      <th>NumberOfMissingValues</th>\n",
       "      <th>NumberOfNumericFeatures</th>\n",
       "      <th>NumberOfSymbolicFeatures</th>\n",
       "    </tr>\n",
       "  </thead>\n",
       "  <tbody>\n",
       "    <tr>\n",
       "      <th>2</th>\n",
       "      <td>2</td>\n",
       "      <td>anneal</td>\n",
       "      <td>1</td>\n",
       "      <td>1</td>\n",
       "      <td>active</td>\n",
       "      <td>ARFF</td>\n",
       "      <td>684.0</td>\n",
       "      <td>7.0</td>\n",
       "      <td>8.0</td>\n",
       "      <td>5.0</td>\n",
       "      <td>39.0</td>\n",
       "      <td>898.0</td>\n",
       "      <td>898.0</td>\n",
       "      <td>22175.0</td>\n",
       "      <td>6.0</td>\n",
       "      <td>33.0</td>\n",
       "    </tr>\n",
       "    <tr>\n",
       "      <th>3</th>\n",
       "      <td>3</td>\n",
       "      <td>kr-vs-kp</td>\n",
       "      <td>1</td>\n",
       "      <td>1</td>\n",
       "      <td>active</td>\n",
       "      <td>ARFF</td>\n",
       "      <td>1669.0</td>\n",
       "      <td>3.0</td>\n",
       "      <td>1527.0</td>\n",
       "      <td>2.0</td>\n",
       "      <td>37.0</td>\n",
       "      <td>3196.0</td>\n",
       "      <td>0.0</td>\n",
       "      <td>0.0</td>\n",
       "      <td>0.0</td>\n",
       "      <td>37.0</td>\n",
       "    </tr>\n",
       "    <tr>\n",
       "      <th>4</th>\n",
       "      <td>4</td>\n",
       "      <td>labor</td>\n",
       "      <td>1</td>\n",
       "      <td>1</td>\n",
       "      <td>active</td>\n",
       "      <td>ARFF</td>\n",
       "      <td>37.0</td>\n",
       "      <td>3.0</td>\n",
       "      <td>20.0</td>\n",
       "      <td>2.0</td>\n",
       "      <td>17.0</td>\n",
       "      <td>57.0</td>\n",
       "      <td>56.0</td>\n",
       "      <td>326.0</td>\n",
       "      <td>8.0</td>\n",
       "      <td>9.0</td>\n",
       "    </tr>\n",
       "    <tr>\n",
       "      <th>5</th>\n",
       "      <td>5</td>\n",
       "      <td>arrhythmia</td>\n",
       "      <td>1</td>\n",
       "      <td>1</td>\n",
       "      <td>active</td>\n",
       "      <td>ARFF</td>\n",
       "      <td>245.0</td>\n",
       "      <td>13.0</td>\n",
       "      <td>2.0</td>\n",
       "      <td>13.0</td>\n",
       "      <td>280.0</td>\n",
       "      <td>452.0</td>\n",
       "      <td>384.0</td>\n",
       "      <td>408.0</td>\n",
       "      <td>206.0</td>\n",
       "      <td>74.0</td>\n",
       "    </tr>\n",
       "    <tr>\n",
       "      <th>6</th>\n",
       "      <td>6</td>\n",
       "      <td>letter</td>\n",
       "      <td>1</td>\n",
       "      <td>1</td>\n",
       "      <td>active</td>\n",
       "      <td>ARFF</td>\n",
       "      <td>813.0</td>\n",
       "      <td>26.0</td>\n",
       "      <td>734.0</td>\n",
       "      <td>26.0</td>\n",
       "      <td>17.0</td>\n",
       "      <td>20000.0</td>\n",
       "      <td>0.0</td>\n",
       "      <td>0.0</td>\n",
       "      <td>16.0</td>\n",
       "      <td>1.0</td>\n",
       "    </tr>\n",
       "    <tr>\n",
       "      <th>...</th>\n",
       "      <td>...</td>\n",
       "      <td>...</td>\n",
       "      <td>...</td>\n",
       "      <td>...</td>\n",
       "      <td>...</td>\n",
       "      <td>...</td>\n",
       "      <td>...</td>\n",
       "      <td>...</td>\n",
       "      <td>...</td>\n",
       "      <td>...</td>\n",
       "      <td>...</td>\n",
       "      <td>...</td>\n",
       "      <td>...</td>\n",
       "      <td>...</td>\n",
       "      <td>...</td>\n",
       "      <td>...</td>\n",
       "    </tr>\n",
       "    <tr>\n",
       "      <th>46332</th>\n",
       "      <td>46332</td>\n",
       "      <td>anneal_clean</td>\n",
       "      <td>1</td>\n",
       "      <td>30703</td>\n",
       "      <td>active</td>\n",
       "      <td>arff</td>\n",
       "      <td>684.0</td>\n",
       "      <td>NaN</td>\n",
       "      <td>8.0</td>\n",
       "      <td>5.0</td>\n",
       "      <td>39.0</td>\n",
       "      <td>898.0</td>\n",
       "      <td>898.0</td>\n",
       "      <td>22175.0</td>\n",
       "      <td>6.0</td>\n",
       "      <td>33.0</td>\n",
       "    </tr>\n",
       "    <tr>\n",
       "      <th>46333</th>\n",
       "      <td>46333</td>\n",
       "      <td>arrhythmia</td>\n",
       "      <td>3</td>\n",
       "      <td>30703</td>\n",
       "      <td>active</td>\n",
       "      <td>arff</td>\n",
       "      <td>245.0</td>\n",
       "      <td>NaN</td>\n",
       "      <td>2.0</td>\n",
       "      <td>13.0</td>\n",
       "      <td>280.0</td>\n",
       "      <td>452.0</td>\n",
       "      <td>384.0</td>\n",
       "      <td>408.0</td>\n",
       "      <td>206.0</td>\n",
       "      <td>74.0</td>\n",
       "    </tr>\n",
       "    <tr>\n",
       "      <th>46334</th>\n",
       "      <td>46334</td>\n",
       "      <td>glass_clean</td>\n",
       "      <td>1</td>\n",
       "      <td>30703</td>\n",
       "      <td>active</td>\n",
       "      <td>arff</td>\n",
       "      <td>76.0</td>\n",
       "      <td>NaN</td>\n",
       "      <td>9.0</td>\n",
       "      <td>6.0</td>\n",
       "      <td>10.0</td>\n",
       "      <td>214.0</td>\n",
       "      <td>0.0</td>\n",
       "      <td>0.0</td>\n",
       "      <td>9.0</td>\n",
       "      <td>1.0</td>\n",
       "    </tr>\n",
       "    <tr>\n",
       "      <th>46335</th>\n",
       "      <td>46335</td>\n",
       "      <td>primary-tumor_clean</td>\n",
       "      <td>1</td>\n",
       "      <td>30703</td>\n",
       "      <td>active</td>\n",
       "      <td>arff</td>\n",
       "      <td>84.0</td>\n",
       "      <td>NaN</td>\n",
       "      <td>1.0</td>\n",
       "      <td>21.0</td>\n",
       "      <td>18.0</td>\n",
       "      <td>339.0</td>\n",
       "      <td>207.0</td>\n",
       "      <td>225.0</td>\n",
       "      <td>0.0</td>\n",
       "      <td>18.0</td>\n",
       "    </tr>\n",
       "    <tr>\n",
       "      <th>46336</th>\n",
       "      <td>46336</td>\n",
       "      <td>hayes-roth_clean</td>\n",
       "      <td>1</td>\n",
       "      <td>30703</td>\n",
       "      <td>active</td>\n",
       "      <td>arff</td>\n",
       "      <td>65.0</td>\n",
       "      <td>NaN</td>\n",
       "      <td>31.0</td>\n",
       "      <td>3.0</td>\n",
       "      <td>5.0</td>\n",
       "      <td>160.0</td>\n",
       "      <td>0.0</td>\n",
       "      <td>0.0</td>\n",
       "      <td>4.0</td>\n",
       "      <td>1.0</td>\n",
       "    </tr>\n",
       "  </tbody>\n",
       "</table>\n",
       "<p>5751 rows × 16 columns</p>\n",
       "</div>"
      ],
      "text/plain": [
       "         did                 name  version uploader  status format  \\\n",
       "2          2               anneal        1        1  active   ARFF   \n",
       "3          3             kr-vs-kp        1        1  active   ARFF   \n",
       "4          4                labor        1        1  active   ARFF   \n",
       "5          5           arrhythmia        1        1  active   ARFF   \n",
       "6          6               letter        1        1  active   ARFF   \n",
       "...      ...                  ...      ...      ...     ...    ...   \n",
       "46332  46332         anneal_clean        1    30703  active   arff   \n",
       "46333  46333           arrhythmia        3    30703  active   arff   \n",
       "46334  46334          glass_clean        1    30703  active   arff   \n",
       "46335  46335  primary-tumor_clean        1    30703  active   arff   \n",
       "46336  46336     hayes-roth_clean        1    30703  active   arff   \n",
       "\n",
       "       MajorityClassSize  MaxNominalAttDistinctValues  MinorityClassSize  \\\n",
       "2                  684.0                          7.0                8.0   \n",
       "3                 1669.0                          3.0             1527.0   \n",
       "4                   37.0                          3.0               20.0   \n",
       "5                  245.0                         13.0                2.0   \n",
       "6                  813.0                         26.0              734.0   \n",
       "...                  ...                          ...                ...   \n",
       "46332              684.0                          NaN                8.0   \n",
       "46333              245.0                          NaN                2.0   \n",
       "46334               76.0                          NaN                9.0   \n",
       "46335               84.0                          NaN                1.0   \n",
       "46336               65.0                          NaN               31.0   \n",
       "\n",
       "       NumberOfClasses  NumberOfFeatures  NumberOfInstances  \\\n",
       "2                  5.0              39.0              898.0   \n",
       "3                  2.0              37.0             3196.0   \n",
       "4                  2.0              17.0               57.0   \n",
       "5                 13.0             280.0              452.0   \n",
       "6                 26.0              17.0            20000.0   \n",
       "...                ...               ...                ...   \n",
       "46332              5.0              39.0              898.0   \n",
       "46333             13.0             280.0              452.0   \n",
       "46334              6.0              10.0              214.0   \n",
       "46335             21.0              18.0              339.0   \n",
       "46336              3.0               5.0              160.0   \n",
       "\n",
       "       NumberOfInstancesWithMissingValues  NumberOfMissingValues  \\\n",
       "2                                   898.0                22175.0   \n",
       "3                                     0.0                    0.0   \n",
       "4                                    56.0                  326.0   \n",
       "5                                   384.0                  408.0   \n",
       "6                                     0.0                    0.0   \n",
       "...                                   ...                    ...   \n",
       "46332                               898.0                22175.0   \n",
       "46333                               384.0                  408.0   \n",
       "46334                                 0.0                    0.0   \n",
       "46335                               207.0                  225.0   \n",
       "46336                                 0.0                    0.0   \n",
       "\n",
       "       NumberOfNumericFeatures  NumberOfSymbolicFeatures  \n",
       "2                          6.0                      33.0  \n",
       "3                          0.0                      37.0  \n",
       "4                          8.0                       9.0  \n",
       "5                        206.0                      74.0  \n",
       "6                         16.0                       1.0  \n",
       "...                        ...                       ...  \n",
       "46332                      6.0                      33.0  \n",
       "46333                    206.0                      74.0  \n",
       "46334                      9.0                       1.0  \n",
       "46335                      0.0                      18.0  \n",
       "46336                      4.0                       1.0  \n",
       "\n",
       "[5751 rows x 16 columns]"
      ]
     },
     "execution_count": 41,
     "metadata": {},
     "output_type": "execute_result"
    }
   ],
   "source": [
    "import openml\n",
    "\n",
    "# List all datasets and their properties\n",
    "openml.datasets.list_datasets(output_format=\"dataframe\")"
   ]
  },
  {
   "cell_type": "code",
   "execution_count": 42,
   "metadata": {},
   "outputs": [
    {
     "name": "stderr",
     "output_type": "stream",
     "text": [
      "C:\\Users\\Admin\\AppData\\Local\\Temp\\ipykernel_16228\\1434261051.py:2: FutureWarning: Starting from Version 0.15 `download_data`, `download_qualities`, and `download_features_meta_data` will all be ``False`` instead of ``True`` by default to enable lazy loading. To disable this message until version 0.15 explicitly set `download_data`, `download_qualities`, and `download_features_meta_data` to a bool while calling `get_dataset`.\n",
      "  dataset = openml.datasets.get_dataset(42)\n"
     ]
    }
   ],
   "source": [
    "# Get dataset by ID\n",
    "dataset = openml.datasets.get_dataset(42)"
   ]
  },
  {
   "cell_type": "code",
   "execution_count": 7,
   "metadata": {},
   "outputs": [],
   "source": [
    "# Get dataset by name\n",
    "#dataset = openml.datasets.get_dataset('soybean')"
   ]
  },
  {
   "cell_type": "code",
   "execution_count": 43,
   "metadata": {},
   "outputs": [],
   "source": [
    "# Get the data itself as a dataframe (or otherwise)\n",
    "X, y, _, _ = dataset.get_data(dataset_format=\"dataframe\")"
   ]
  },
  {
   "cell_type": "code",
   "execution_count": 44,
   "metadata": {},
   "outputs": [
    {
     "data": {
      "text/html": [
       "<div>\n",
       "<style scoped>\n",
       "    .dataframe tbody tr th:only-of-type {\n",
       "        vertical-align: middle;\n",
       "    }\n",
       "\n",
       "    .dataframe tbody tr th {\n",
       "        vertical-align: top;\n",
       "    }\n",
       "\n",
       "    .dataframe thead th {\n",
       "        text-align: right;\n",
       "    }\n",
       "</style>\n",
       "<table border=\"1\" class=\"dataframe\">\n",
       "  <thead>\n",
       "    <tr style=\"text-align: right;\">\n",
       "      <th></th>\n",
       "      <th>date</th>\n",
       "      <th>plant-stand</th>\n",
       "      <th>precip</th>\n",
       "      <th>temp</th>\n",
       "      <th>hail</th>\n",
       "      <th>crop-hist</th>\n",
       "      <th>area-damaged</th>\n",
       "      <th>severity</th>\n",
       "      <th>seed-tmt</th>\n",
       "      <th>germination</th>\n",
       "      <th>...</th>\n",
       "      <th>sclerotia</th>\n",
       "      <th>fruit-pods</th>\n",
       "      <th>fruit-spots</th>\n",
       "      <th>seed</th>\n",
       "      <th>mold-growth</th>\n",
       "      <th>seed-discolor</th>\n",
       "      <th>seed-size</th>\n",
       "      <th>shriveling</th>\n",
       "      <th>roots</th>\n",
       "      <th>class</th>\n",
       "    </tr>\n",
       "  </thead>\n",
       "  <tbody>\n",
       "    <tr>\n",
       "      <th>0</th>\n",
       "      <td>october</td>\n",
       "      <td>normal</td>\n",
       "      <td>gt-norm</td>\n",
       "      <td>norm</td>\n",
       "      <td>yes</td>\n",
       "      <td>same-lst-yr</td>\n",
       "      <td>low-areas</td>\n",
       "      <td>pot-severe</td>\n",
       "      <td>none</td>\n",
       "      <td>90-100</td>\n",
       "      <td>...</td>\n",
       "      <td>absent</td>\n",
       "      <td>norm</td>\n",
       "      <td>dna</td>\n",
       "      <td>norm</td>\n",
       "      <td>absent</td>\n",
       "      <td>absent</td>\n",
       "      <td>norm</td>\n",
       "      <td>absent</td>\n",
       "      <td>norm</td>\n",
       "      <td>diaporthe-stem-canker</td>\n",
       "    </tr>\n",
       "    <tr>\n",
       "      <th>1</th>\n",
       "      <td>august</td>\n",
       "      <td>normal</td>\n",
       "      <td>gt-norm</td>\n",
       "      <td>norm</td>\n",
       "      <td>yes</td>\n",
       "      <td>same-lst-two-yrs</td>\n",
       "      <td>scattered</td>\n",
       "      <td>severe</td>\n",
       "      <td>fungicide</td>\n",
       "      <td>80-89</td>\n",
       "      <td>...</td>\n",
       "      <td>absent</td>\n",
       "      <td>norm</td>\n",
       "      <td>dna</td>\n",
       "      <td>norm</td>\n",
       "      <td>absent</td>\n",
       "      <td>absent</td>\n",
       "      <td>norm</td>\n",
       "      <td>absent</td>\n",
       "      <td>norm</td>\n",
       "      <td>diaporthe-stem-canker</td>\n",
       "    </tr>\n",
       "    <tr>\n",
       "      <th>2</th>\n",
       "      <td>july</td>\n",
       "      <td>normal</td>\n",
       "      <td>gt-norm</td>\n",
       "      <td>norm</td>\n",
       "      <td>yes</td>\n",
       "      <td>same-lst-yr</td>\n",
       "      <td>scattered</td>\n",
       "      <td>severe</td>\n",
       "      <td>fungicide</td>\n",
       "      <td>lt-80</td>\n",
       "      <td>...</td>\n",
       "      <td>absent</td>\n",
       "      <td>norm</td>\n",
       "      <td>dna</td>\n",
       "      <td>norm</td>\n",
       "      <td>absent</td>\n",
       "      <td>absent</td>\n",
       "      <td>norm</td>\n",
       "      <td>absent</td>\n",
       "      <td>norm</td>\n",
       "      <td>diaporthe-stem-canker</td>\n",
       "    </tr>\n",
       "    <tr>\n",
       "      <th>3</th>\n",
       "      <td>july</td>\n",
       "      <td>normal</td>\n",
       "      <td>gt-norm</td>\n",
       "      <td>norm</td>\n",
       "      <td>yes</td>\n",
       "      <td>same-lst-yr</td>\n",
       "      <td>scattered</td>\n",
       "      <td>severe</td>\n",
       "      <td>none</td>\n",
       "      <td>80-89</td>\n",
       "      <td>...</td>\n",
       "      <td>absent</td>\n",
       "      <td>norm</td>\n",
       "      <td>dna</td>\n",
       "      <td>norm</td>\n",
       "      <td>absent</td>\n",
       "      <td>absent</td>\n",
       "      <td>norm</td>\n",
       "      <td>absent</td>\n",
       "      <td>norm</td>\n",
       "      <td>diaporthe-stem-canker</td>\n",
       "    </tr>\n",
       "    <tr>\n",
       "      <th>4</th>\n",
       "      <td>october</td>\n",
       "      <td>normal</td>\n",
       "      <td>gt-norm</td>\n",
       "      <td>norm</td>\n",
       "      <td>yes</td>\n",
       "      <td>same-lst-two-yrs</td>\n",
       "      <td>scattered</td>\n",
       "      <td>pot-severe</td>\n",
       "      <td>none</td>\n",
       "      <td>lt-80</td>\n",
       "      <td>...</td>\n",
       "      <td>absent</td>\n",
       "      <td>norm</td>\n",
       "      <td>dna</td>\n",
       "      <td>norm</td>\n",
       "      <td>absent</td>\n",
       "      <td>absent</td>\n",
       "      <td>norm</td>\n",
       "      <td>absent</td>\n",
       "      <td>norm</td>\n",
       "      <td>diaporthe-stem-canker</td>\n",
       "    </tr>\n",
       "  </tbody>\n",
       "</table>\n",
       "<p>5 rows × 36 columns</p>\n",
       "</div>"
      ],
      "text/plain": [
       "      date plant-stand   precip  temp hail         crop-hist area-damaged  \\\n",
       "0  october      normal  gt-norm  norm  yes       same-lst-yr    low-areas   \n",
       "1   august      normal  gt-norm  norm  yes  same-lst-two-yrs    scattered   \n",
       "2     july      normal  gt-norm  norm  yes       same-lst-yr    scattered   \n",
       "3     july      normal  gt-norm  norm  yes       same-lst-yr    scattered   \n",
       "4  october      normal  gt-norm  norm  yes  same-lst-two-yrs    scattered   \n",
       "\n",
       "     severity   seed-tmt germination  ... sclerotia fruit-pods fruit-spots  \\\n",
       "0  pot-severe       none      90-100  ...    absent       norm         dna   \n",
       "1      severe  fungicide       80-89  ...    absent       norm         dna   \n",
       "2      severe  fungicide       lt-80  ...    absent       norm         dna   \n",
       "3      severe       none       80-89  ...    absent       norm         dna   \n",
       "4  pot-severe       none       lt-80  ...    absent       norm         dna   \n",
       "\n",
       "   seed mold-growth seed-discolor seed-size shriveling roots  \\\n",
       "0  norm      absent        absent      norm     absent  norm   \n",
       "1  norm      absent        absent      norm     absent  norm   \n",
       "2  norm      absent        absent      norm     absent  norm   \n",
       "3  norm      absent        absent      norm     absent  norm   \n",
       "4  norm      absent        absent      norm     absent  norm   \n",
       "\n",
       "                   class  \n",
       "0  diaporthe-stem-canker  \n",
       "1  diaporthe-stem-canker  \n",
       "2  diaporthe-stem-canker  \n",
       "3  diaporthe-stem-canker  \n",
       "4  diaporthe-stem-canker  \n",
       "\n",
       "[5 rows x 36 columns]"
      ]
     },
     "execution_count": 44,
     "metadata": {},
     "output_type": "execute_result"
    }
   ],
   "source": [
    "X.head()"
   ]
  },
  {
   "cell_type": "code",
   "execution_count": 45,
   "metadata": {},
   "outputs": [
    {
     "data": {
      "text/plain": [
       "(683, 36)"
      ]
     },
     "execution_count": 45,
     "metadata": {},
     "output_type": "execute_result"
    }
   ],
   "source": [
    "X.shape"
   ]
  },
  {
   "cell_type": "code",
   "execution_count": 46,
   "metadata": {},
   "outputs": [
    {
     "data": {
      "text/plain": [
       "Index(['date', 'plant-stand', 'precip', 'temp', 'hail', 'crop-hist',\n",
       "       'area-damaged', 'severity', 'seed-tmt', 'germination', 'plant-growth',\n",
       "       'leaves', 'leafspots-halo', 'leafspots-marg', 'leafspot-size',\n",
       "       'leaf-shread', 'leaf-malf', 'leaf-mild', 'stem', 'lodging',\n",
       "       'stem-cankers', 'canker-lesion', 'fruiting-bodies', 'external-decay',\n",
       "       'mycelium', 'int-discolor', 'sclerotia', 'fruit-pods', 'fruit-spots',\n",
       "       'seed', 'mold-growth', 'seed-discolor', 'seed-size', 'shriveling',\n",
       "       'roots', 'class'],\n",
       "      dtype='object')"
      ]
     },
     "execution_count": 46,
     "metadata": {},
     "output_type": "execute_result"
    }
   ],
   "source": [
    "X.columns"
   ]
  },
  {
   "cell_type": "code",
   "execution_count": 47,
   "metadata": {},
   "outputs": [
    {
     "name": "stdout",
     "output_type": "stream",
     "text": [
      "<class 'pandas.core.frame.DataFrame'>\n",
      "RangeIndex: 683 entries, 0 to 682\n",
      "Data columns (total 36 columns):\n",
      " #   Column           Non-Null Count  Dtype   \n",
      "---  ------           --------------  -----   \n",
      " 0   date             682 non-null    category\n",
      " 1   plant-stand      647 non-null    category\n",
      " 2   precip           645 non-null    category\n",
      " 3   temp             653 non-null    category\n",
      " 4   hail             562 non-null    category\n",
      " 5   crop-hist        667 non-null    category\n",
      " 6   area-damaged     682 non-null    category\n",
      " 7   severity         562 non-null    category\n",
      " 8   seed-tmt         562 non-null    category\n",
      " 9   germination      571 non-null    category\n",
      " 10  plant-growth     667 non-null    category\n",
      " 11  leaves           683 non-null    category\n",
      " 12  leafspots-halo   599 non-null    category\n",
      " 13  leafspots-marg   599 non-null    category\n",
      " 14  leafspot-size    599 non-null    category\n",
      " 15  leaf-shread      583 non-null    category\n",
      " 16  leaf-malf        599 non-null    category\n",
      " 17  leaf-mild        575 non-null    category\n",
      " 18  stem             667 non-null    category\n",
      " 19  lodging          562 non-null    category\n",
      " 20  stem-cankers     645 non-null    category\n",
      " 21  canker-lesion    645 non-null    category\n",
      " 22  fruiting-bodies  577 non-null    category\n",
      " 23  external-decay   645 non-null    category\n",
      " 24  mycelium         645 non-null    category\n",
      " 25  int-discolor     645 non-null    category\n",
      " 26  sclerotia        645 non-null    category\n",
      " 27  fruit-pods       599 non-null    category\n",
      " 28  fruit-spots      577 non-null    category\n",
      " 29  seed             591 non-null    category\n",
      " 30  mold-growth      591 non-null    category\n",
      " 31  seed-discolor    577 non-null    category\n",
      " 32  seed-size        591 non-null    category\n",
      " 33  shriveling       577 non-null    category\n",
      " 34  roots            652 non-null    category\n",
      " 35  class            683 non-null    category\n",
      "dtypes: category(36)\n",
      "memory usage: 29.9 KB\n"
     ]
    }
   ],
   "source": [
    "X.info()"
   ]
  },
  {
   "cell_type": "code",
   "execution_count": 48,
   "metadata": {},
   "outputs": [
    {
     "data": {
      "text/plain": [
       "pandas.core.frame.DataFrame"
      ]
     },
     "execution_count": 48,
     "metadata": {},
     "output_type": "execute_result"
    }
   ],
   "source": [
    "type(X)"
   ]
  },
  {
   "cell_type": "code",
   "execution_count": 49,
   "metadata": {},
   "outputs": [],
   "source": [
    "column_list = ['date', 'plant-stand', 'precip', 'temp', 'hail', 'crop-hist',\n",
    "       'area-damaged', 'severity', 'seed-tmt', 'germination', 'plant-growth',\n",
    "       'leaves', 'leafspots-halo', 'leafspots-marg', 'leafspot-size',\n",
    "       'leaf-shread', 'leaf-malf', 'leaf-mild', 'stem', 'lodging',\n",
    "       'stem-cankers', 'canker-lesion', 'fruiting-bodies', 'external-decay',\n",
    "       'mycelium', 'int-discolor', 'sclerotia', 'fruit-pods', 'fruit-spots',\n",
    "       'seed', 'mold-growth', 'seed-discolor', 'seed-size', 'shriveling',\n",
    "       'roots', 'class']"
   ]
  },
  {
   "cell_type": "code",
   "execution_count": 50,
   "metadata": {},
   "outputs": [],
   "source": [
    "X.dropna(subset=column_list, inplace=True)"
   ]
  },
  {
   "cell_type": "code",
   "execution_count": 51,
   "metadata": {},
   "outputs": [
    {
     "name": "stdout",
     "output_type": "stream",
     "text": [
      "<class 'pandas.core.frame.DataFrame'>\n",
      "Index: 562 entries, 0 to 646\n",
      "Data columns (total 36 columns):\n",
      " #   Column           Non-Null Count  Dtype   \n",
      "---  ------           --------------  -----   \n",
      " 0   date             562 non-null    category\n",
      " 1   plant-stand      562 non-null    category\n",
      " 2   precip           562 non-null    category\n",
      " 3   temp             562 non-null    category\n",
      " 4   hail             562 non-null    category\n",
      " 5   crop-hist        562 non-null    category\n",
      " 6   area-damaged     562 non-null    category\n",
      " 7   severity         562 non-null    category\n",
      " 8   seed-tmt         562 non-null    category\n",
      " 9   germination      562 non-null    category\n",
      " 10  plant-growth     562 non-null    category\n",
      " 11  leaves           562 non-null    category\n",
      " 12  leafspots-halo   562 non-null    category\n",
      " 13  leafspots-marg   562 non-null    category\n",
      " 14  leafspot-size    562 non-null    category\n",
      " 15  leaf-shread      562 non-null    category\n",
      " 16  leaf-malf        562 non-null    category\n",
      " 17  leaf-mild        562 non-null    category\n",
      " 18  stem             562 non-null    category\n",
      " 19  lodging          562 non-null    category\n",
      " 20  stem-cankers     562 non-null    category\n",
      " 21  canker-lesion    562 non-null    category\n",
      " 22  fruiting-bodies  562 non-null    category\n",
      " 23  external-decay   562 non-null    category\n",
      " 24  mycelium         562 non-null    category\n",
      " 25  int-discolor     562 non-null    category\n",
      " 26  sclerotia        562 non-null    category\n",
      " 27  fruit-pods       562 non-null    category\n",
      " 28  fruit-spots      562 non-null    category\n",
      " 29  seed             562 non-null    category\n",
      " 30  mold-growth      562 non-null    category\n",
      " 31  seed-discolor    562 non-null    category\n",
      " 32  seed-size        562 non-null    category\n",
      " 33  shriveling       562 non-null    category\n",
      " 34  roots            562 non-null    category\n",
      " 35  class            562 non-null    category\n",
      "dtypes: category(36)\n",
      "memory usage: 29.9 KB\n"
     ]
    }
   ],
   "source": [
    "X.info()"
   ]
  },
  {
   "cell_type": "code",
   "execution_count": 52,
   "metadata": {},
   "outputs": [
    {
     "data": {
      "text/plain": [
       "(562, 36)"
      ]
     },
     "execution_count": 52,
     "metadata": {},
     "output_type": "execute_result"
    }
   ],
   "source": [
    "X.shape"
   ]
  },
  {
   "cell_type": "code",
   "execution_count": 53,
   "metadata": {},
   "outputs": [],
   "source": [
    "from pymfe.mfe import MFE"
   ]
  },
  {
   "cell_type": "code",
   "execution_count": 54,
   "metadata": {},
   "outputs": [],
   "source": [
    "#creates features \n",
    "x = X.drop(['class'], axis=1)\n",
    "#creates labels\n",
    "y = X['class']"
   ]
  },
  {
   "cell_type": "code",
   "execution_count": 55,
   "metadata": {},
   "outputs": [
    {
     "data": {
      "text/plain": [
       "((562, 35), (562,), pandas.core.frame.DataFrame, pandas.core.series.Series)"
      ]
     },
     "execution_count": 55,
     "metadata": {},
     "output_type": "execute_result"
    }
   ],
   "source": [
    "x.shape, y.shape, type(x), type(y)"
   ]
  },
  {
   "cell_type": "code",
   "execution_count": 56,
   "metadata": {},
   "outputs": [],
   "source": [
    "x = x.to_numpy()\n",
    "y = y.to_numpy()"
   ]
  },
  {
   "cell_type": "code",
   "execution_count": 34,
   "metadata": {},
   "outputs": [
    {
     "data": {
      "text/plain": [
       "(numpy.ndarray, numpy.ndarray)"
      ]
     },
     "execution_count": 34,
     "metadata": {},
     "output_type": "execute_result"
    }
   ],
   "source": [
    "type(x), type(y)"
   ]
  },
  {
   "cell_type": "code",
   "execution_count": 57,
   "metadata": {},
   "outputs": [
    {
     "name": "stderr",
     "output_type": "stream",
     "text": [
      "c:\\Users\\Admin\\Downloads\\AI-839\\MLOps\\kedro-projects\\.venv\\lib\\site-packages\\pymfe\\_internal.py:1281: UserWarning:  * Something went wrong while precomputing 'precompute_can_cors'. Will ignore this method. Error message:\n",
      "TypeError(\"__init__() got an unexpected keyword argument 'sparse'\").\n",
      "  warnings.warn(\n",
      "c:\\Users\\Admin\\Downloads\\AI-839\\MLOps\\kedro-projects\\.venv\\lib\\site-packages\\pymfe\\_internal.py:606: RuntimeWarning: Can't extract feature 'can_cor'.\n",
      " Exception message: TypeError(\"__init__() got an unexpected keyword argument 'sparse'\").\n",
      " Will set it as 'np.nan' for all summary functions.\n",
      "  warnings.warn(\n",
      "c:\\Users\\Admin\\Downloads\\AI-839\\MLOps\\kedro-projects\\.venv\\lib\\site-packages\\pymfe\\_internal.py:731: RuntimeWarning: Can't summarize feature 'can_cor' with summary 'sd'. Will set it as 'np.nan'.\n",
      "  warnings.warn(\n",
      "c:\\Users\\Admin\\Downloads\\AI-839\\MLOps\\kedro-projects\\.venv\\lib\\site-packages\\numpy\\core\\fromnumeric.py:3504: RuntimeWarning: Mean of empty slice.\n",
      "  return _methods._mean(a, axis=axis, dtype=dtype,\n",
      "c:\\Users\\Admin\\Downloads\\AI-839\\MLOps\\kedro-projects\\.venv\\lib\\site-packages\\numpy\\core\\_methods.py:129: RuntimeWarning: invalid value encountered in scalar divide\n",
      "  ret = ret.dtype.type(ret / rcount)\n",
      "c:\\Users\\Admin\\Downloads\\AI-839\\MLOps\\kedro-projects\\.venv\\lib\\site-packages\\pymfe\\_internal.py:731: RuntimeWarning: Can't summarize feature 'can_cor' with summary 'mean'. Will set it as 'np.nan'.\n",
      "  warnings.warn(\n",
      "c:\\Users\\Admin\\Downloads\\AI-839\\MLOps\\kedro-projects\\.venv\\lib\\site-packages\\pymfe\\_internal.py:606: RuntimeWarning: Can't extract feature 'lh_trace'.\n",
      " Exception message: TypeError(\"__init__() got an unexpected keyword argument 'sparse'\").\n",
      "  warnings.warn(\n",
      "c:\\Users\\Admin\\Downloads\\AI-839\\MLOps\\kedro-projects\\.venv\\lib\\site-packages\\pymfe\\_internal.py:606: RuntimeWarning: Can't extract feature 'nr_disc'.\n",
      " Exception message: TypeError(\"__init__() got an unexpected keyword argument 'sparse'\").\n",
      "  warnings.warn(\n",
      "c:\\Users\\Admin\\Downloads\\AI-839\\MLOps\\kedro-projects\\.venv\\lib\\site-packages\\pymfe\\_internal.py:606: RuntimeWarning: Can't extract feature 'p_trace'.\n",
      " Exception message: TypeError(\"__init__() got an unexpected keyword argument 'sparse'\").\n",
      "  warnings.warn(\n",
      "c:\\Users\\Admin\\Downloads\\AI-839\\MLOps\\kedro-projects\\.venv\\lib\\site-packages\\pymfe\\_internal.py:606: RuntimeWarning: Can't extract feature 'roy_root'.\n",
      " Exception message: TypeError(\"__init__() got an unexpected keyword argument 'sparse'\").\n",
      "  warnings.warn(\n",
      "c:\\Users\\Admin\\Downloads\\AI-839\\MLOps\\kedro-projects\\.venv\\lib\\site-packages\\pymfe\\statistical.py:1267: RuntimeWarning: divide by zero encountered in log\n",
      "  np.log(np.linalg.det(S_i)) for S_i in sample_cov_matrices\n",
      "c:\\Users\\Admin\\Downloads\\AI-839\\MLOps\\kedro-projects\\.venv\\lib\\site-packages\\pymfe\\statistical.py:1272: RuntimeWarning: divide by zero encountered in log\n",
      "  * np.log(np.linalg.det(pooled_cov_mat))\n",
      "c:\\Users\\Admin\\Downloads\\AI-839\\MLOps\\kedro-projects\\.venv\\lib\\site-packages\\pymfe\\statistical.py:1271: RuntimeWarning: invalid value encountered in scalar subtract\n",
      "  (num_inst - num_classes)\n",
      "c:\\Users\\Admin\\Downloads\\AI-839\\MLOps\\kedro-projects\\.venv\\lib\\site-packages\\pymfe\\_internal.py:606: RuntimeWarning: Can't extract feature 'w_lambda'.\n",
      " Exception message: TypeError(\"__init__() got an unexpected keyword argument 'sparse'\").\n",
      "  warnings.warn(\n"
     ]
    }
   ],
   "source": [
    "mfe = MFE()\n",
    "mfe.fit(x, y)\n",
    "ft = mfe.extract()\n"
   ]
  },
  {
   "cell_type": "code",
   "execution_count": 58,
   "metadata": {},
   "outputs": [
    {
     "name": "stdout",
     "output_type": "stream",
     "text": [
      "(['attr_conc.mean', 'attr_conc.sd', 'attr_ent.mean', 'attr_ent.sd', 'attr_to_inst', 'best_node.mean', 'best_node.sd', 'can_cor.mean', 'can_cor.sd', 'cat_to_num', 'class_conc.mean', 'class_conc.sd', 'class_ent', 'cor.mean', 'cor.sd', 'cov.mean', 'cov.sd', 'eigenvalues.mean', 'eigenvalues.sd', 'elite_nn.mean', 'elite_nn.sd', 'eq_num_attr', 'freq_class.mean', 'freq_class.sd', 'g_mean.mean', 'g_mean.sd', 'gravity', 'h_mean.mean', 'h_mean.sd', 'inst_to_attr', 'iq_range.mean', 'iq_range.sd', 'joint_ent.mean', 'joint_ent.sd', 'kurtosis.mean', 'kurtosis.sd', 'leaves', 'leaves_branch.mean', 'leaves_branch.sd', 'leaves_corrob.mean', 'leaves_corrob.sd', 'leaves_homo.mean', 'leaves_homo.sd', 'leaves_per_class.mean', 'leaves_per_class.sd', 'lh_trace', 'linear_discr.mean', 'linear_discr.sd', 'mad.mean', 'mad.sd', 'max.mean', 'max.sd', 'mean.mean', 'mean.sd', 'median.mean', 'median.sd', 'min.mean', 'min.sd', 'mut_inf.mean', 'mut_inf.sd', 'naive_bayes.mean', 'naive_bayes.sd', 'nodes', 'nodes_per_attr', 'nodes_per_inst', 'nodes_per_level.mean', 'nodes_per_level.sd', 'nodes_repeated.mean', 'nodes_repeated.sd', 'nr_attr', 'nr_bin', 'nr_cat', 'nr_class', 'nr_cor_attr', 'nr_disc', 'nr_inst', 'nr_norm', 'nr_num', 'nr_outliers', 'ns_ratio', 'num_to_cat', 'one_nn.mean', 'one_nn.sd', 'p_trace', 'random_node.mean', 'random_node.sd', 'range.mean', 'range.sd', 'roy_root', 'sd.mean', 'sd.sd', 'sd_ratio', 'skewness.mean', 'skewness.sd', 'sparsity.mean', 'sparsity.sd', 't_mean.mean', 't_mean.sd', 'tree_depth.mean', 'tree_depth.sd', 'tree_imbalance.mean', 'tree_imbalance.sd', 'tree_shape.mean', 'tree_shape.sd', 'var.mean', 'var.sd', 'var_importance.mean', 'var_importance.sd', 'w_lambda', 'worst_node.mean', 'worst_node.sd'], [0.05462640620726539, 0.09942859138508081, 0.9323056586974273, 0.5936891167507491, 0.06227758007117438, 0.23668546365914786, 0.012566306307883664, nan, nan, nan, 0.49983551161350814, 0.29142626130499, 3.5660954912334497, 0.11260784197039646, 0.1294020343109803, 0.01371128595665523, 0.02062372595272309, 0.1298890597613645, 0.2106265617489774, 0.06766917293233081, 0.011454727820218953, 7.874730026412702, 0.06666666666666667, 0.051749636674620875, 0.0, 0.0, 2.0379481137108706, 0.0, 0.0, 16.057142857142857, 0.2698412698412698, 0.4474425249214015, 4.045548102363229, 0.5438885356055607, 7.907804959843206, 15.324141518094212, 65, 10.307692307692308, 3.7952399336334657, 0.015384615384615384, 0.022314008788587556, 54486.98873675345, 120601.32993343691, 0.06666666666666665, 0.08216567117980775, nan, 0.9163847117794486, 0.065729350536087, 0.0, 0.0, 1.0, 0.0, 0.2961644918940292, 0.282955831143017, 0.2857142857142857, 0.45538255553918716, 0.0, 0.0, 0.45285304756764705, 0.34953339236217584, 0.856015037593985, 0.06475078801951263, 64, 1.0158730158730158, 0.11387900355871886, 3.764705882352941, 2.0775409672466716, 1.6, 0.8412444993533733, 35, 17, 35, 15, 0.02304147465437788, nan, 562, 0.0, 0, 46, 1.058737737782718, 0.0, 0.9021303258145364, 0.0590332125270708, nan, 0.1637218045112782, 0.04499471112666104, 1.0, 0.0, nan, 0.34214070774042027, 0.11417404228037187, nan, 1.678087997541662, 2.681772267503188, 0.39586380006548066, 0.10887943929713777, 0.24452897529820605, 0.36103167494768734, 9.395348837209303, 3.9259127216068395, 0.05550871813412788, 0.095829585430903, 0.05382455679086538, 0.11113971045149706, 0.12988905976136467, 0.07574305715643449, 0.015873015873015876, 0.02460468918973066, nan, 0.18151629072681702, 0.011587432591795812])\n"
     ]
    }
   ],
   "source": [
    "print(ft)"
   ]
  },
  {
   "cell_type": "code",
   "execution_count": 59,
   "metadata": {},
   "outputs": [
    {
     "name": "stderr",
     "output_type": "stream",
     "text": [
      "c:\\Users\\Admin\\Downloads\\AI-839\\MLOps\\kedro-projects\\.venv\\lib\\site-packages\\pymfe\\_internal.py:1281: UserWarning:  * Something went wrong while precomputing 'precompute_can_cors'. Will ignore this method. Error message:\n",
      "TypeError(\"__init__() got an unexpected keyword argument 'sparse'\").\n",
      "  warnings.warn(\n",
      "c:\\Users\\Admin\\Downloads\\AI-839\\MLOps\\kedro-projects\\.venv\\lib\\site-packages\\pymfe\\_internal.py:606: RuntimeWarning: Can't extract feature 'can_cor'.\n",
      " Exception message: TypeError(\"__init__() got an unexpected keyword argument 'sparse'\").\n",
      " Will set it as 'np.nan' for all summary functions.\n",
      "  warnings.warn(\n",
      "c:\\Users\\Admin\\Downloads\\AI-839\\MLOps\\kedro-projects\\.venv\\lib\\site-packages\\pymfe\\_internal.py:731: RuntimeWarning: Can't summarize feature 'can_cor' with summary 'sd'. Will set it as 'np.nan'.\n",
      "  warnings.warn(\n",
      "c:\\Users\\Admin\\Downloads\\AI-839\\MLOps\\kedro-projects\\.venv\\lib\\site-packages\\numpy\\core\\fromnumeric.py:3504: RuntimeWarning: Mean of empty slice.\n",
      "  return _methods._mean(a, axis=axis, dtype=dtype,\n",
      "c:\\Users\\Admin\\Downloads\\AI-839\\MLOps\\kedro-projects\\.venv\\lib\\site-packages\\numpy\\core\\_methods.py:129: RuntimeWarning: invalid value encountered in scalar divide\n",
      "  ret = ret.dtype.type(ret / rcount)\n",
      "c:\\Users\\Admin\\Downloads\\AI-839\\MLOps\\kedro-projects\\.venv\\lib\\site-packages\\pymfe\\_internal.py:731: RuntimeWarning: Can't summarize feature 'can_cor' with summary 'mean'. Will set it as 'np.nan'.\n",
      "  warnings.warn(\n",
      "c:\\Users\\Admin\\Downloads\\AI-839\\MLOps\\kedro-projects\\.venv\\lib\\site-packages\\pymfe\\_internal.py:606: RuntimeWarning: Can't extract feature 'lh_trace'.\n",
      " Exception message: TypeError(\"__init__() got an unexpected keyword argument 'sparse'\").\n",
      "  warnings.warn(\n",
      "c:\\Users\\Admin\\Downloads\\AI-839\\MLOps\\kedro-projects\\.venv\\lib\\site-packages\\pymfe\\_internal.py:606: RuntimeWarning: Can't extract feature 'nr_disc'.\n",
      " Exception message: TypeError(\"__init__() got an unexpected keyword argument 'sparse'\").\n",
      "  warnings.warn(\n",
      "c:\\Users\\Admin\\Downloads\\AI-839\\MLOps\\kedro-projects\\.venv\\lib\\site-packages\\pymfe\\_internal.py:606: RuntimeWarning: Can't extract feature 'p_trace'.\n",
      " Exception message: TypeError(\"__init__() got an unexpected keyword argument 'sparse'\").\n",
      "  warnings.warn(\n",
      "c:\\Users\\Admin\\Downloads\\AI-839\\MLOps\\kedro-projects\\.venv\\lib\\site-packages\\pymfe\\_internal.py:606: RuntimeWarning: Can't extract feature 'roy_root'.\n",
      " Exception message: TypeError(\"__init__() got an unexpected keyword argument 'sparse'\").\n",
      "  warnings.warn(\n",
      "c:\\Users\\Admin\\Downloads\\AI-839\\MLOps\\kedro-projects\\.venv\\lib\\site-packages\\pymfe\\statistical.py:1267: RuntimeWarning: divide by zero encountered in log\n",
      "  np.log(np.linalg.det(S_i)) for S_i in sample_cov_matrices\n",
      "c:\\Users\\Admin\\Downloads\\AI-839\\MLOps\\kedro-projects\\.venv\\lib\\site-packages\\pymfe\\statistical.py:1272: RuntimeWarning: divide by zero encountered in log\n",
      "  * np.log(np.linalg.det(pooled_cov_mat))\n",
      "c:\\Users\\Admin\\Downloads\\AI-839\\MLOps\\kedro-projects\\.venv\\lib\\site-packages\\pymfe\\statistical.py:1271: RuntimeWarning: invalid value encountered in scalar subtract\n",
      "  (num_inst - num_classes)\n",
      "c:\\Users\\Admin\\Downloads\\AI-839\\MLOps\\kedro-projects\\.venv\\lib\\site-packages\\pymfe\\_internal.py:606: RuntimeWarning: Can't extract feature 'w_lambda'.\n",
      " Exception message: TypeError(\"__init__() got an unexpected keyword argument 'sparse'\").\n",
      "  warnings.warn(\n"
     ]
    }
   ],
   "source": [
    "# Extract general, statistical and information-theoretic measures\n",
    "mfe = MFE(groups=[\"general\", \"statistical\", \"info-theory\"])\n",
    "mfe.fit(x, y)\n",
    "ft = mfe.extract()\n"
   ]
  },
  {
   "cell_type": "code",
   "execution_count": 60,
   "metadata": {},
   "outputs": [
    {
     "name": "stdout",
     "output_type": "stream",
     "text": [
      "(['attr_conc.mean', 'attr_conc.sd', 'attr_ent.mean', 'attr_ent.sd', 'attr_to_inst', 'can_cor.mean', 'can_cor.sd', 'cat_to_num', 'class_conc.mean', 'class_conc.sd', 'class_ent', 'cor.mean', 'cor.sd', 'cov.mean', 'cov.sd', 'eigenvalues.mean', 'eigenvalues.sd', 'eq_num_attr', 'freq_class.mean', 'freq_class.sd', 'g_mean.mean', 'g_mean.sd', 'gravity', 'h_mean.mean', 'h_mean.sd', 'inst_to_attr', 'iq_range.mean', 'iq_range.sd', 'joint_ent.mean', 'joint_ent.sd', 'kurtosis.mean', 'kurtosis.sd', 'lh_trace', 'mad.mean', 'mad.sd', 'max.mean', 'max.sd', 'mean.mean', 'mean.sd', 'median.mean', 'median.sd', 'min.mean', 'min.sd', 'mut_inf.mean', 'mut_inf.sd', 'nr_attr', 'nr_bin', 'nr_cat', 'nr_class', 'nr_cor_attr', 'nr_disc', 'nr_inst', 'nr_norm', 'nr_num', 'nr_outliers', 'ns_ratio', 'num_to_cat', 'p_trace', 'range.mean', 'range.sd', 'roy_root', 'sd.mean', 'sd.sd', 'sd_ratio', 'skewness.mean', 'skewness.sd', 'sparsity.mean', 'sparsity.sd', 't_mean.mean', 't_mean.sd', 'var.mean', 'var.sd', 'w_lambda'], [0.056242653040261034, 0.0786851289795218, 0.9323056586974273, 0.5936891167507491, 0.06227758007117438, nan, nan, nan, 0.49983551161350814, 0.29142626130499, 3.5660954912334497, 0.11260784197039646, 0.1294020343109803, 0.01371128595665523, 0.02062372595272309, 0.1298890597613645, 0.2106265617489774, 7.874730026412702, 0.06666666666666667, 0.051749636674620875, 0.0, 0.0, 2.0379481137108706, 0.0, 0.0, 16.057142857142857, 0.2698412698412698, 0.4474425249214015, 4.045548102363229, 0.5438885356055607, 7.907804959843206, 15.324141518094212, nan, 0.0, 0.0, 1.0, 0.0, 0.2961644918940292, 0.282955831143017, 0.2857142857142857, 0.45538255553918716, 0.0, 0.0, 0.45285304756764705, 0.34953339236217584, 35, 17, 35, 15, 0.02304147465437788, nan, 562, 0.0, 0, 46, 1.058737737782718, 0.0, nan, 1.0, 0.0, nan, 0.34214070774042027, 0.11417404228037187, nan, 1.678087997541662, 2.681772267503188, 0.39586380006548066, 0.10887943929713777, 0.24452897529820605, 0.36103167494768734, 0.12988905976136467, 0.07574305715643449, nan])\n"
     ]
    }
   ],
   "source": [
    "print(ft)"
   ]
  },
  {
   "cell_type": "code",
   "execution_count": 61,
   "metadata": {},
   "outputs": [
    {
     "name": "stderr",
     "output_type": "stream",
     "text": [
      "c:\\Users\\Admin\\Downloads\\AI-839\\MLOps\\kedro-projects\\.venv\\lib\\site-packages\\pymfe\\_internal.py:1281: UserWarning:  * Something went wrong while precomputing 'precompute_can_cors'. Will ignore this method. Error message:\n",
      "TypeError(\"__init__() got an unexpected keyword argument 'sparse'\").\n",
      "  warnings.warn(\n",
      "c:\\Users\\Admin\\Downloads\\AI-839\\MLOps\\kedro-projects\\.venv\\lib\\site-packages\\pymfe\\_internal.py:606: RuntimeWarning: Can't extract feature 'can_cor'.\n",
      " Exception message: TypeError(\"__init__() got an unexpected keyword argument 'sparse'\").\n",
      " Will set it as 'np.nan' for all summary functions.\n",
      "  warnings.warn(\n",
      "c:\\Users\\Admin\\Downloads\\AI-839\\MLOps\\kedro-projects\\.venv\\lib\\site-packages\\pymfe\\_internal.py:731: RuntimeWarning: Can't summarize feature 'can_cor' with summary 'sd'. Will set it as 'np.nan'.\n",
      "  warnings.warn(\n",
      "c:\\Users\\Admin\\Downloads\\AI-839\\MLOps\\kedro-projects\\.venv\\lib\\site-packages\\numpy\\core\\fromnumeric.py:3504: RuntimeWarning: Mean of empty slice.\n",
      "  return _methods._mean(a, axis=axis, dtype=dtype,\n",
      "c:\\Users\\Admin\\Downloads\\AI-839\\MLOps\\kedro-projects\\.venv\\lib\\site-packages\\numpy\\core\\_methods.py:129: RuntimeWarning: invalid value encountered in scalar divide\n",
      "  ret = ret.dtype.type(ret / rcount)\n",
      "c:\\Users\\Admin\\Downloads\\AI-839\\MLOps\\kedro-projects\\.venv\\lib\\site-packages\\pymfe\\_internal.py:731: RuntimeWarning: Can't summarize feature 'can_cor' with summary 'mean'. Will set it as 'np.nan'.\n",
      "  warnings.warn(\n",
      "c:\\Users\\Admin\\Downloads\\AI-839\\MLOps\\kedro-projects\\.venv\\lib\\site-packages\\pymfe\\_internal.py:606: RuntimeWarning: Can't extract feature 'lh_trace'.\n",
      " Exception message: TypeError(\"__init__() got an unexpected keyword argument 'sparse'\").\n",
      "  warnings.warn(\n",
      "c:\\Users\\Admin\\Downloads\\AI-839\\MLOps\\kedro-projects\\.venv\\lib\\site-packages\\pymfe\\_internal.py:606: RuntimeWarning: Can't extract feature 'nr_disc'.\n",
      " Exception message: TypeError(\"__init__() got an unexpected keyword argument 'sparse'\").\n",
      "  warnings.warn(\n",
      "c:\\Users\\Admin\\Downloads\\AI-839\\MLOps\\kedro-projects\\.venv\\lib\\site-packages\\pymfe\\_internal.py:606: RuntimeWarning: Can't extract feature 'p_trace'.\n",
      " Exception message: TypeError(\"__init__() got an unexpected keyword argument 'sparse'\").\n",
      "  warnings.warn(\n",
      "c:\\Users\\Admin\\Downloads\\AI-839\\MLOps\\kedro-projects\\.venv\\lib\\site-packages\\pymfe\\_internal.py:606: RuntimeWarning: Can't extract feature 'roy_root'.\n",
      " Exception message: TypeError(\"__init__() got an unexpected keyword argument 'sparse'\").\n",
      "  warnings.warn(\n",
      "c:\\Users\\Admin\\Downloads\\AI-839\\MLOps\\kedro-projects\\.venv\\lib\\site-packages\\pymfe\\statistical.py:1267: RuntimeWarning: divide by zero encountered in log\n",
      "  np.log(np.linalg.det(S_i)) for S_i in sample_cov_matrices\n",
      "c:\\Users\\Admin\\Downloads\\AI-839\\MLOps\\kedro-projects\\.venv\\lib\\site-packages\\pymfe\\statistical.py:1272: RuntimeWarning: divide by zero encountered in log\n",
      "  * np.log(np.linalg.det(pooled_cov_mat))\n",
      "c:\\Users\\Admin\\Downloads\\AI-839\\MLOps\\kedro-projects\\.venv\\lib\\site-packages\\pymfe\\statistical.py:1271: RuntimeWarning: invalid value encountered in scalar subtract\n",
      "  (num_inst - num_classes)\n",
      "c:\\Users\\Admin\\Downloads\\AI-839\\MLOps\\kedro-projects\\.venv\\lib\\site-packages\\pymfe\\_internal.py:606: RuntimeWarning: Can't extract feature 'w_lambda'.\n",
      " Exception message: TypeError(\"__init__() got an unexpected keyword argument 'sparse'\").\n",
      "  warnings.warn(\n",
      "c:\\Users\\Admin\\Downloads\\AI-839\\MLOps\\kedro-projects\\.venv\\lib\\site-packages\\pymfe\\complexity.py:804: RuntimeWarning: divide by zero encountered in divide\n",
      "  attr_discriminant_ratio = _numer / _denom\n",
      "c:\\Users\\Admin\\Downloads\\AI-839\\MLOps\\kedro-projects\\.venv\\lib\\site-packages\\pymfe\\complexity.py:990: RuntimeWarning: invalid value encountered in divide\n",
      "  f2[ind] = np.prod(np.maximum(0.0, minmax - maxmin) / (maxmax - minmin))\n",
      "c:\\Users\\Admin\\Downloads\\AI-839\\MLOps\\kedro-projects\\.venv\\lib\\site-packages\\pymfe\\_internal.py:731: RuntimeWarning: Can't summarize feature 'f2' with summary 'sd'. Will set it as 'np.nan'.\n",
      "  warnings.warn(\n",
      "c:\\Users\\Admin\\Downloads\\AI-839\\MLOps\\kedro-projects\\.venv\\lib\\site-packages\\pymfe\\_internal.py:731: RuntimeWarning: Can't summarize feature 'f2' with summary 'mean'. Will set it as 'np.nan'.\n",
      "  warnings.warn(\n",
      "c:\\Users\\Admin\\Downloads\\AI-839\\MLOps\\kedro-projects\\.venv\\lib\\site-packages\\pymfe\\complexity.py:1742: RuntimeWarning: divide by zero encountered in divide\n",
      "  intra_extra[cur_ind:next_ind] = intra / extra\n"
     ]
    }
   ],
   "source": [
    "# Extract all available measures\n",
    "mfe = MFE(groups=\"all\")\n",
    "mfe.fit(x, y)\n",
    "ft = mfe.extract()\n"
   ]
  },
  {
   "cell_type": "code",
   "execution_count": 62,
   "metadata": {},
   "outputs": [
    {
     "name": "stdout",
     "output_type": "stream",
     "text": [
      "(['attr_conc.mean', 'attr_conc.sd', 'attr_ent.mean', 'attr_ent.sd', 'attr_to_inst', 'best_node.mean', 'best_node.mean.relative', 'best_node.sd', 'best_node.sd.relative', 'c1', 'c2', 'can_cor.mean', 'can_cor.sd', 'cat_to_num', 'ch', 'class_conc.mean', 'class_conc.sd', 'class_ent', 'cls_coef', 'cohesiveness.mean', 'cohesiveness.sd', 'conceptvar.mean', 'conceptvar.sd', 'cor.mean', 'cor.sd', 'cov.mean', 'cov.sd', 'density', 'eigenvalues.mean', 'eigenvalues.sd', 'elite_nn.mean', 'elite_nn.mean.relative', 'elite_nn.sd', 'elite_nn.sd.relative', 'eq_num_attr', 'f1.mean', 'f1.sd', 'f1v.mean', 'f1v.sd', 'f2.mean', 'f2.sd', 'f3.mean', 'f3.sd', 'f4.mean', 'f4.sd', 'freq_class.mean', 'freq_class.sd', 'g_mean.mean', 'g_mean.sd', 'gravity', 'h_mean.mean', 'h_mean.sd', 'hubs.mean', 'hubs.sd', 'impconceptvar.mean', 'impconceptvar.sd', 'inst_to_attr', 'int', 'iq_range.mean', 'iq_range.sd', 'joint_ent.mean', 'joint_ent.sd', 'kurtosis.mean', 'kurtosis.sd', 'l1.mean', 'l1.sd', 'l2.mean', 'l2.sd', 'l3.mean', 'l3.sd', 'leaves', 'leaves_branch.mean', 'leaves_branch.sd', 'leaves_corrob.mean', 'leaves_corrob.sd', 'leaves_homo.mean', 'leaves_homo.sd', 'leaves_per_class.mean', 'leaves_per_class.sd', 'lh_trace', 'linear_discr.mean', 'linear_discr.mean.relative', 'linear_discr.sd', 'linear_discr.sd.relative', 'lsc', 'mad.mean', 'mad.sd', 'max.mean', 'max.sd', 'mean.mean', 'mean.sd', 'median.mean', 'median.sd', 'min.mean', 'min.sd', 'mut_inf.mean', 'mut_inf.sd', 'n1', 'n2.mean', 'n2.sd', 'n3.mean', 'n3.sd', 'n4.mean', 'n4.sd', 'naive_bayes.mean', 'naive_bayes.mean.relative', 'naive_bayes.sd', 'naive_bayes.sd.relative', 'nodes', 'nodes_per_attr', 'nodes_per_inst', 'nodes_per_level.mean', 'nodes_per_level.sd', 'nodes_repeated.mean', 'nodes_repeated.sd', 'nr_attr', 'nr_bin', 'nr_cat', 'nr_class', 'nr_cor_attr', 'nr_disc', 'nr_inst', 'nr_norm', 'nr_num', 'nr_outliers', 'nre', 'ns_ratio', 'num_to_cat', 'one_itemset.mean', 'one_itemset.sd', 'one_nn.mean', 'one_nn.mean.relative', 'one_nn.sd', 'one_nn.sd.relative', 'p_trace', 'pb', 'random_node.mean', 'random_node.mean.relative', 'random_node.sd', 'random_node.sd.relative', 'range.mean', 'range.sd', 'roy_root', 'sc', 'sd.mean', 'sd.sd', 'sd_ratio', 'sil', 'skewness.mean', 'skewness.sd', 'sparsity.mean', 'sparsity.sd', 't1', 't2', 't3', 't4', 't_mean.mean', 't_mean.sd', 'tree_depth.mean', 'tree_depth.sd', 'tree_imbalance.mean', 'tree_imbalance.sd', 'tree_shape.mean', 'tree_shape.sd', 'two_itemset.mean', 'two_itemset.sd', 'var.mean', 'var.sd', 'var_importance.mean', 'var_importance.sd', 'vdb', 'vdu', 'w_lambda', 'wg_dist.mean', 'wg_dist.sd', 'worst_node.mean', 'worst_node.mean.relative', 'worst_node.sd', 'worst_node.sd.relative'], [0.052980643832273806, 0.07686144851342408, 0.9323056586974273, 0.5936891167507491, 0.06227758007117438, 0.23668546365914786, 4.0, 0.012566306307883664, 2.0, 0.9127707582193024, 0.044258601707557244, nan, nan, nan, 28.45955710776529, 0.49983551161350814, 0.29142626130499, 3.5660954912334497, 0.2463991568757563, 30.60053380782918, 7.617465895835143, 0.8378897056058503, 0.07971521015193515, 0.11260784197039646, 0.1294020343109803, 0.01371128595665523, 0.02062372595272309, 0.9354482653624374, 0.1298890597613645, 0.2106265617489774, 0.06766917293233081, 1.0, 0.011454727820218953, 1.0, 7.874730026412702, 0.5304709059831386, 0.32451611700322464, 0.01042582726699052, 0.014048241350080383, nan, nan, 0.1307561876414335, 0.509236485736217, 0.004761904761904762, 0.04879500364742667, 0.06666666666666667, 0.051749636674620875, 0.0, 0.0, 2.0379481137108706, 0.0, 0.0, 0.885768298061651, 0.2965435519575326, 24.46952846975089, 4.948385846137504, 16.057142857142857, 4.258600689567639, 0.2698412698412698, 0.4474425249214015, 4.045548102363229, 0.5438885356055607, 7.907804959843206, 15.324141518094212, 0.000539566647658505, 0.005528912873510568, 0.0006802721088435372, 0.006970714806775234, 0.0011113195832165386, 0.007286335561842967, 65, 10.36923076923077, 3.90340088404182, 0.015384615384615385, 0.022305138941940094, 74193.56461838815, 189456.29111501787, 0.06666666666666665, 0.08216567117980775, nan, 0.9163847117794486, 7.0, 0.065729350536087, 7.0, 0.9815161915375945, 0.0, 0.0, 1.0, 0.0, 0.2961644918940292, 0.282955831143017, 0.2857142857142857, 0.45538255553918716, 0.0, 0.0, 0.45285304756764705, 0.34953339236217584, 0.19750889679715303, 0.29306508748938653, 0.17039165681514168, 0.09786476868327403, 0.2973964198191492, 0.4822064056939502, 0.5001284399326659, 0.856015037593985, 5.0, 0.06475078801951263, 6.0, 64, 1.0158730158730158, 0.11387900355871886, 3.5555555555555554, 2.0926263324636483, 1.5238095238095237, 0.7726449737860468, 35, 17, 35, 15, 0.02304147465437788, nan, 562, 0.0, 0, 46, 2.4718290353559986, 1.058737737782718, 0.0, 0.3608247422680412, 0.312649982878728, 0.9021303258145364, 6.0, 0.0590332125270708, 5.0, nan, -0.4677574798903602, 0.2029135338345865, 3.0, 0.028608644881972133, 3.0, 1.0, 0.0, nan, 0, 0.34214070774042027, 0.11417404228037187, nan, 0.11419211493687098, 1.678087997541662, 2.681772267503188, 0.39586380006548066, 0.10887943929713777, 0.36298932384341637, 0.11209964412811388, 0.060498220640569395, 0.5396825396825397, 0.24452897529820605, 0.36103167494768734, 9.457364341085272, 4.029205396108644, 0.05203942068517449, 0.09361447084819509, 0.053822796161358176, 0.11114065027333381, 0.46309314586994726, 0.2404524322070628, 0.12988905976136467, 0.07574305715643449, 0.015873015873015872, 0.024850648603178902, 2.2438368628465932, 0.0, nan, 3.7348660074321143, 0.3554799458893605, 0.19047619047619047, 2.0, 0.04721819920441275, 4.0])\n"
     ]
    }
   ],
   "source": [
    "print(ft)"
   ]
  },
  {
   "cell_type": "code",
   "execution_count": 63,
   "metadata": {},
   "outputs": [
    {
     "name": "stderr",
     "output_type": "stream",
     "text": [
      "c:\\Users\\Admin\\Downloads\\AI-839\\MLOps\\kedro-projects\\.venv\\lib\\site-packages\\pymfe\\_internal.py:1281: UserWarning:  * Something went wrong while precomputing 'precompute_can_cors'. Will ignore this method. Error message:\n",
      "TypeError(\"__init__() got an unexpected keyword argument 'sparse'\").\n",
      "  warnings.warn(\n",
      "c:\\Users\\Admin\\Downloads\\AI-839\\MLOps\\kedro-projects\\.venv\\lib\\site-packages\\pymfe\\_internal.py:606: RuntimeWarning: Can't extract feature 'can_cor'.\n",
      " Exception message: TypeError(\"__init__() got an unexpected keyword argument 'sparse'\").\n",
      " Will set it as 'np.nan' for all summary functions.\n",
      "  warnings.warn(\n",
      "c:\\Users\\Admin\\Downloads\\AI-839\\MLOps\\kedro-projects\\.venv\\lib\\site-packages\\pymfe\\_internal.py:731: RuntimeWarning: Can't summarize feature 'can_cor' with summary 'max'. Will set it as 'np.nan'.\n",
      "  warnings.warn(\n",
      "c:\\Users\\Admin\\Downloads\\AI-839\\MLOps\\kedro-projects\\.venv\\lib\\site-packages\\pymfe\\_internal.py:731: RuntimeWarning: Can't summarize feature 'can_cor' with summary 'min'. Will set it as 'np.nan'.\n",
      "  warnings.warn(\n",
      "c:\\Users\\Admin\\Downloads\\AI-839\\MLOps\\kedro-projects\\.venv\\lib\\site-packages\\numpy\\core\\fromnumeric.py:3504: RuntimeWarning: Mean of empty slice.\n",
      "  return _methods._mean(a, axis=axis, dtype=dtype,\n",
      "c:\\Users\\Admin\\Downloads\\AI-839\\MLOps\\kedro-projects\\.venv\\lib\\site-packages\\numpy\\core\\_methods.py:129: RuntimeWarning: invalid value encountered in scalar divide\n",
      "  ret = ret.dtype.type(ret / rcount)\n",
      "c:\\Users\\Admin\\Downloads\\AI-839\\MLOps\\kedro-projects\\.venv\\lib\\site-packages\\pymfe\\_internal.py:731: RuntimeWarning: Can't summarize feature 'can_cor' with summary 'median'. Will set it as 'np.nan'.\n",
      "  warnings.warn(\n",
      "c:\\Users\\Admin\\Downloads\\AI-839\\MLOps\\kedro-projects\\.venv\\lib\\site-packages\\pymfe\\_internal.py:606: RuntimeWarning: Can't extract feature 'lh_trace'.\n",
      " Exception message: TypeError(\"__init__() got an unexpected keyword argument 'sparse'\").\n",
      "  warnings.warn(\n",
      "c:\\Users\\Admin\\Downloads\\AI-839\\MLOps\\kedro-projects\\.venv\\lib\\site-packages\\pymfe\\_internal.py:606: RuntimeWarning: Can't extract feature 'nr_disc'.\n",
      " Exception message: TypeError(\"__init__() got an unexpected keyword argument 'sparse'\").\n",
      "  warnings.warn(\n",
      "c:\\Users\\Admin\\Downloads\\AI-839\\MLOps\\kedro-projects\\.venv\\lib\\site-packages\\pymfe\\_internal.py:606: RuntimeWarning: Can't extract feature 'p_trace'.\n",
      " Exception message: TypeError(\"__init__() got an unexpected keyword argument 'sparse'\").\n",
      "  warnings.warn(\n",
      "c:\\Users\\Admin\\Downloads\\AI-839\\MLOps\\kedro-projects\\.venv\\lib\\site-packages\\pymfe\\_internal.py:606: RuntimeWarning: Can't extract feature 'roy_root'.\n",
      " Exception message: TypeError(\"__init__() got an unexpected keyword argument 'sparse'\").\n",
      "  warnings.warn(\n",
      "c:\\Users\\Admin\\Downloads\\AI-839\\MLOps\\kedro-projects\\.venv\\lib\\site-packages\\pymfe\\statistical.py:1267: RuntimeWarning: divide by zero encountered in log\n",
      "  np.log(np.linalg.det(S_i)) for S_i in sample_cov_matrices\n",
      "c:\\Users\\Admin\\Downloads\\AI-839\\MLOps\\kedro-projects\\.venv\\lib\\site-packages\\pymfe\\statistical.py:1272: RuntimeWarning: divide by zero encountered in log\n",
      "  * np.log(np.linalg.det(pooled_cov_mat))\n",
      "c:\\Users\\Admin\\Downloads\\AI-839\\MLOps\\kedro-projects\\.venv\\lib\\site-packages\\pymfe\\statistical.py:1271: RuntimeWarning: invalid value encountered in scalar subtract\n",
      "  (num_inst - num_classes)\n",
      "c:\\Users\\Admin\\Downloads\\AI-839\\MLOps\\kedro-projects\\.venv\\lib\\site-packages\\pymfe\\_internal.py:606: RuntimeWarning: Can't extract feature 'w_lambda'.\n",
      " Exception message: TypeError(\"__init__() got an unexpected keyword argument 'sparse'\").\n",
      "  warnings.warn(\n"
     ]
    }
   ],
   "source": [
    "## Extract default measures using min, median and max \n",
    "mfe = MFE(summary=[\"min\", \"median\", \"max\"])\n",
    "mfe.fit(x, y)\n",
    "ft = mfe.extract()\n"
   ]
  },
  {
   "cell_type": "code",
   "execution_count": 64,
   "metadata": {},
   "outputs": [
    {
     "name": "stdout",
     "output_type": "stream",
     "text": [
      "(['attr_conc.max', 'attr_conc.median', 'attr_conc.min', 'attr_ent.max', 'attr_ent.median', 'attr_ent.min', 'attr_to_inst', 'best_node.max', 'best_node.median', 'best_node.min', 'can_cor.max', 'can_cor.median', 'can_cor.min', 'cat_to_num', 'class_conc.max', 'class_conc.median', 'class_conc.min', 'class_ent', 'cor.max', 'cor.median', 'cor.min', 'cov.max', 'cov.median', 'cov.min', 'eigenvalues.max', 'eigenvalues.median', 'eigenvalues.min', 'elite_nn.max', 'elite_nn.median', 'elite_nn.min', 'eq_num_attr', 'freq_class.max', 'freq_class.median', 'freq_class.min', 'g_mean.max', 'g_mean.median', 'g_mean.min', 'gravity', 'h_mean.max', 'h_mean.median', 'h_mean.min', 'inst_to_attr', 'iq_range.max', 'iq_range.median', 'iq_range.min', 'joint_ent.max', 'joint_ent.median', 'joint_ent.min', 'kurtosis.max', 'kurtosis.median', 'kurtosis.min', 'leaves', 'leaves_branch.max', 'leaves_branch.median', 'leaves_branch.min', 'leaves_corrob.max', 'leaves_corrob.median', 'leaves_corrob.min', 'leaves_homo.max', 'leaves_homo.median', 'leaves_homo.min', 'leaves_per_class.max', 'leaves_per_class.median', 'leaves_per_class.min', 'lh_trace', 'linear_discr.max', 'linear_discr.median', 'linear_discr.min', 'mad.max', 'mad.median', 'mad.min', 'max.max', 'max.median', 'max.min', 'mean.max', 'mean.median', 'mean.min', 'median.max', 'median.median', 'median.min', 'min.max', 'min.median', 'min.min', 'mut_inf.max', 'mut_inf.median', 'mut_inf.min', 'naive_bayes.max', 'naive_bayes.median', 'naive_bayes.min', 'nodes', 'nodes_per_attr', 'nodes_per_inst', 'nodes_per_level.max', 'nodes_per_level.median', 'nodes_per_level.min', 'nodes_repeated.max', 'nodes_repeated.median', 'nodes_repeated.min', 'nr_attr', 'nr_bin', 'nr_cat', 'nr_class', 'nr_cor_attr', 'nr_disc', 'nr_inst', 'nr_norm', 'nr_num', 'nr_outliers', 'ns_ratio', 'num_to_cat', 'one_nn.max', 'one_nn.median', 'one_nn.min', 'p_trace', 'random_node.max', 'random_node.median', 'random_node.min', 'range.max', 'range.median', 'range.min', 'roy_root', 'sd.max', 'sd.median', 'sd.min', 'sd_ratio', 'skewness.max', 'skewness.median', 'skewness.min', 'sparsity.max', 'sparsity.median', 'sparsity.min', 't_mean.max', 't_mean.median', 't_mean.min', 'tree_depth.max', 'tree_depth.median', 'tree_depth.min', 'tree_imbalance.max', 'tree_imbalance.median', 'tree_imbalance.min', 'tree_shape.max', 'tree_shape.median', 'tree_shape.min', 'var.max', 'var.median', 'var.min', 'var_importance.max', 'var_importance.median', 'var_importance.min', 'w_lambda', 'worst_node.max', 'worst_node.median', 'worst_node.min'], [0.5887842627610308, 0.015262363980295984, 2.508503490344683e-05, 2.634134749840698, 0.7983386963307958, 0.08524302584619818, 0.06227758007117438, 0.25, 0.23214285714285715, 0.21428571428571427, nan, nan, nan, nan, 1.0000000000009446, 0.5412948160851693, 0.017231241145325094, 3.5660954912334497, 0.9525985540982554, 0.06948760051863591, 7.956687838176419e-05, 0.21442391256081852, 0.0070095977569287395, 3.171763690918555e-06, 1.282821550590635, 0.04915980883469041, 2.0418950299310688e-17, 0.07142857142857142, 0.07142857142857142, 0.03508771929824561, 7.874730026412702, 0.16370106761565836, 0.03558718861209965, 0.03558718861209965, 0.0, 0.0, 0.0, 2.0379481137108706, 0.0, 0.0, 0.0, 16.057142857142857, 1.0, 0.0, 0.0, 5.57219057149742, 3.82929427573178, 3.5660998945338758, 88.35149399635323, 2.0066270240773365, -2.0035050742991163, 64, 17, 10.0, 2, 0.1103202846975089, 0.0035587188612099642, 0.0017793594306049821, 493447.5294117647, 6553.6, 128.0, 0.25, 0.015625, 0.015625, nan, 1.0, 0.9027255639097744, 0.7857142857142857, 0.0, 0.0, 0.0, 1.0, 1.0, 1.0, 0.9804270462633452, 0.1708185053380783, 0.010676156583629894, 1.0, 0.0, 0.0, 0.0, 0.0, 0.0, 1.209322753318868, 0.36779814354374984, 0.05387616663355832, 0.9642857142857143, 0.8660714285714286, 0.7543859649122807, 63, 1.0, 0.11209964412811388, 8, 3.0, 1, 4, 1.0, 1, 35, 17, 35, 15, 0.02304147465437788, nan, 562, 0.0, 0, 46, 1.058737737782718, 0.0, 0.9821428571428571, 0.9196428571428572, 0.7678571428571429, nan, 0.32142857142857145, 0.2589285714285714, 0.21428571428571427, 1.0, 1.0, 1.0, nan, 0.5004422654361697, 0.35332791974953115, 0.10286400572067084, nan, 9.497066675536004, 1.7446686919557544, -6.9176954176197425, 0.49910873440285203, 0.3321449792038027, 0.1413292589763178, 1.0, 0.0, 0.0, 17, 10.0, 0, 0.28916452976398893, 0.011623946278419239, 3.051693258826471e-05, 0.5, 0.009765625, 0.00012969970703125, 0.2504424610348857, 0.12484061887453114, 0.010581003672902201, 0.10332643538995144, 0.005473043798515496, 0.0, nan, 0.32142857142857145, 0.1875, 0.17543859649122806])\n"
     ]
    }
   ],
   "source": [
    "print(ft)"
   ]
  },
  {
   "cell_type": "code",
   "execution_count": 65,
   "metadata": {},
   "outputs": [
    {
     "name": "stderr",
     "output_type": "stream",
     "text": [
      "c:\\Users\\Admin\\Downloads\\AI-839\\MLOps\\kedro-projects\\.venv\\lib\\site-packages\\pymfe\\_internal.py:1281: UserWarning:  * Something went wrong while precomputing 'precompute_can_cors'. Will ignore this method. Error message:\n",
      "TypeError(\"__init__() got an unexpected keyword argument 'sparse'\").\n",
      "  warnings.warn(\n",
      "c:\\Users\\Admin\\Downloads\\AI-839\\MLOps\\kedro-projects\\.venv\\lib\\site-packages\\pymfe\\_internal.py:606: RuntimeWarning: Can't extract feature 'can_cor'.\n",
      " Exception message: TypeError(\"__init__() got an unexpected keyword argument 'sparse'\").\n",
      " Will set it as 'np.nan' for all summary functions.\n",
      "  warnings.warn(\n",
      "c:\\Users\\Admin\\Downloads\\AI-839\\MLOps\\kedro-projects\\.venv\\lib\\site-packages\\pymfe\\_internal.py:731: RuntimeWarning: Can't summarize feature 'can_cor' with summary 'quantiles'. Will set it as 'np.nan'.\n",
      "  warnings.warn(\n",
      "c:\\Users\\Admin\\Downloads\\AI-839\\MLOps\\kedro-projects\\.venv\\lib\\site-packages\\pymfe\\_internal.py:606: RuntimeWarning: Can't extract feature 'lh_trace'.\n",
      " Exception message: TypeError(\"__init__() got an unexpected keyword argument 'sparse'\").\n",
      "  warnings.warn(\n",
      "c:\\Users\\Admin\\Downloads\\AI-839\\MLOps\\kedro-projects\\.venv\\lib\\site-packages\\pymfe\\_internal.py:606: RuntimeWarning: Can't extract feature 'nr_disc'.\n",
      " Exception message: TypeError(\"__init__() got an unexpected keyword argument 'sparse'\").\n",
      "  warnings.warn(\n",
      "c:\\Users\\Admin\\Downloads\\AI-839\\MLOps\\kedro-projects\\.venv\\lib\\site-packages\\pymfe\\_internal.py:606: RuntimeWarning: Can't extract feature 'p_trace'.\n",
      " Exception message: TypeError(\"__init__() got an unexpected keyword argument 'sparse'\").\n",
      "  warnings.warn(\n",
      "c:\\Users\\Admin\\Downloads\\AI-839\\MLOps\\kedro-projects\\.venv\\lib\\site-packages\\pymfe\\_internal.py:606: RuntimeWarning: Can't extract feature 'roy_root'.\n",
      " Exception message: TypeError(\"__init__() got an unexpected keyword argument 'sparse'\").\n",
      "  warnings.warn(\n",
      "c:\\Users\\Admin\\Downloads\\AI-839\\MLOps\\kedro-projects\\.venv\\lib\\site-packages\\pymfe\\statistical.py:1267: RuntimeWarning: divide by zero encountered in log\n",
      "  np.log(np.linalg.det(S_i)) for S_i in sample_cov_matrices\n",
      "c:\\Users\\Admin\\Downloads\\AI-839\\MLOps\\kedro-projects\\.venv\\lib\\site-packages\\pymfe\\statistical.py:1272: RuntimeWarning: divide by zero encountered in log\n",
      "  * np.log(np.linalg.det(pooled_cov_mat))\n",
      "c:\\Users\\Admin\\Downloads\\AI-839\\MLOps\\kedro-projects\\.venv\\lib\\site-packages\\pymfe\\statistical.py:1271: RuntimeWarning: invalid value encountered in scalar subtract\n",
      "  (num_inst - num_classes)\n",
      "c:\\Users\\Admin\\Downloads\\AI-839\\MLOps\\kedro-projects\\.venv\\lib\\site-packages\\pymfe\\_internal.py:606: RuntimeWarning: Can't extract feature 'w_lambda'.\n",
      " Exception message: TypeError(\"__init__() got an unexpected keyword argument 'sparse'\").\n",
      "  warnings.warn(\n"
     ]
    }
   ],
   "source": [
    "## Extract default measures using quantile\n",
    "mfe = MFE(summary=[\"quantiles\"])\n",
    "mfe.fit(x, y)\n",
    "ft = mfe.extract()\n"
   ]
  },
  {
   "cell_type": "code",
   "execution_count": 66,
   "metadata": {},
   "outputs": [
    {
     "name": "stdout",
     "output_type": "stream",
     "text": [
      "(['attr_conc.quantiles.0', 'attr_conc.quantiles.1', 'attr_conc.quantiles.2', 'attr_conc.quantiles.3', 'attr_conc.quantiles.4', 'attr_ent.quantiles.0', 'attr_ent.quantiles.1', 'attr_ent.quantiles.2', 'attr_ent.quantiles.3', 'attr_ent.quantiles.4', 'attr_to_inst', 'best_node.quantiles.0', 'best_node.quantiles.1', 'best_node.quantiles.2', 'best_node.quantiles.3', 'best_node.quantiles.4', 'can_cor.quantiles.0', 'can_cor.quantiles.1', 'can_cor.quantiles.2', 'can_cor.quantiles.3', 'can_cor.quantiles.4', 'cat_to_num', 'class_conc.quantiles.0', 'class_conc.quantiles.1', 'class_conc.quantiles.2', 'class_conc.quantiles.3', 'class_conc.quantiles.4', 'class_ent', 'cor.quantiles.0', 'cor.quantiles.1', 'cor.quantiles.2', 'cor.quantiles.3', 'cor.quantiles.4', 'cov.quantiles.0', 'cov.quantiles.1', 'cov.quantiles.2', 'cov.quantiles.3', 'cov.quantiles.4', 'eigenvalues.quantiles.0', 'eigenvalues.quantiles.1', 'eigenvalues.quantiles.2', 'eigenvalues.quantiles.3', 'eigenvalues.quantiles.4', 'elite_nn.quantiles.0', 'elite_nn.quantiles.1', 'elite_nn.quantiles.2', 'elite_nn.quantiles.3', 'elite_nn.quantiles.4', 'eq_num_attr', 'freq_class.quantiles.0', 'freq_class.quantiles.1', 'freq_class.quantiles.2', 'freq_class.quantiles.3', 'freq_class.quantiles.4', 'g_mean.quantiles.0', 'g_mean.quantiles.1', 'g_mean.quantiles.2', 'g_mean.quantiles.3', 'g_mean.quantiles.4', 'gravity', 'h_mean.quantiles.0', 'h_mean.quantiles.1', 'h_mean.quantiles.2', 'h_mean.quantiles.3', 'h_mean.quantiles.4', 'inst_to_attr', 'iq_range.quantiles.0', 'iq_range.quantiles.1', 'iq_range.quantiles.2', 'iq_range.quantiles.3', 'iq_range.quantiles.4', 'joint_ent.quantiles.0', 'joint_ent.quantiles.1', 'joint_ent.quantiles.2', 'joint_ent.quantiles.3', 'joint_ent.quantiles.4', 'kurtosis.quantiles.0', 'kurtosis.quantiles.1', 'kurtosis.quantiles.2', 'kurtosis.quantiles.3', 'kurtosis.quantiles.4', 'leaves', 'leaves_branch.quantiles.0', 'leaves_branch.quantiles.1', 'leaves_branch.quantiles.2', 'leaves_branch.quantiles.3', 'leaves_branch.quantiles.4', 'leaves_corrob.quantiles.0', 'leaves_corrob.quantiles.1', 'leaves_corrob.quantiles.2', 'leaves_corrob.quantiles.3', 'leaves_corrob.quantiles.4', 'leaves_homo.quantiles.0', 'leaves_homo.quantiles.1', 'leaves_homo.quantiles.2', 'leaves_homo.quantiles.3', 'leaves_homo.quantiles.4', 'leaves_per_class.quantiles.0', 'leaves_per_class.quantiles.1', 'leaves_per_class.quantiles.2', 'leaves_per_class.quantiles.3', 'leaves_per_class.quantiles.4', 'lh_trace', 'linear_discr.quantiles.0', 'linear_discr.quantiles.1', 'linear_discr.quantiles.2', 'linear_discr.quantiles.3', 'linear_discr.quantiles.4', 'mad.quantiles.0', 'mad.quantiles.1', 'mad.quantiles.2', 'mad.quantiles.3', 'mad.quantiles.4', 'max.quantiles.0', 'max.quantiles.1', 'max.quantiles.2', 'max.quantiles.3', 'max.quantiles.4', 'mean.quantiles.0', 'mean.quantiles.1', 'mean.quantiles.2', 'mean.quantiles.3', 'mean.quantiles.4', 'median.quantiles.0', 'median.quantiles.1', 'median.quantiles.2', 'median.quantiles.3', 'median.quantiles.4', 'min.quantiles.0', 'min.quantiles.1', 'min.quantiles.2', 'min.quantiles.3', 'min.quantiles.4', 'mut_inf.quantiles.0', 'mut_inf.quantiles.1', 'mut_inf.quantiles.2', 'mut_inf.quantiles.3', 'mut_inf.quantiles.4', 'naive_bayes.quantiles.0', 'naive_bayes.quantiles.1', 'naive_bayes.quantiles.2', 'naive_bayes.quantiles.3', 'naive_bayes.quantiles.4', 'nodes', 'nodes_per_attr', 'nodes_per_inst', 'nodes_per_level.quantiles.0', 'nodes_per_level.quantiles.1', 'nodes_per_level.quantiles.2', 'nodes_per_level.quantiles.3', 'nodes_per_level.quantiles.4', 'nodes_repeated.quantiles.0', 'nodes_repeated.quantiles.1', 'nodes_repeated.quantiles.2', 'nodes_repeated.quantiles.3', 'nodes_repeated.quantiles.4', 'nr_attr', 'nr_bin', 'nr_cat', 'nr_class', 'nr_cor_attr', 'nr_disc', 'nr_inst', 'nr_norm', 'nr_num', 'nr_outliers', 'ns_ratio', 'num_to_cat', 'one_nn.quantiles.0', 'one_nn.quantiles.1', 'one_nn.quantiles.2', 'one_nn.quantiles.3', 'one_nn.quantiles.4', 'p_trace', 'random_node.quantiles.0', 'random_node.quantiles.1', 'random_node.quantiles.2', 'random_node.quantiles.3', 'random_node.quantiles.4', 'range.quantiles.0', 'range.quantiles.1', 'range.quantiles.2', 'range.quantiles.3', 'range.quantiles.4', 'roy_root', 'sd.quantiles.0', 'sd.quantiles.1', 'sd.quantiles.2', 'sd.quantiles.3', 'sd.quantiles.4', 'sd_ratio', 'skewness.quantiles.0', 'skewness.quantiles.1', 'skewness.quantiles.2', 'skewness.quantiles.3', 'skewness.quantiles.4', 'sparsity.quantiles.0', 'sparsity.quantiles.1', 'sparsity.quantiles.2', 'sparsity.quantiles.3', 'sparsity.quantiles.4', 't_mean.quantiles.0', 't_mean.quantiles.1', 't_mean.quantiles.2', 't_mean.quantiles.3', 't_mean.quantiles.4', 'tree_depth.quantiles.0', 'tree_depth.quantiles.1', 'tree_depth.quantiles.2', 'tree_depth.quantiles.3', 'tree_depth.quantiles.4', 'tree_imbalance.quantiles.0', 'tree_imbalance.quantiles.1', 'tree_imbalance.quantiles.2', 'tree_imbalance.quantiles.3', 'tree_imbalance.quantiles.4', 'tree_shape.quantiles.0', 'tree_shape.quantiles.1', 'tree_shape.quantiles.2', 'tree_shape.quantiles.3', 'tree_shape.quantiles.4', 'var.quantiles.0', 'var.quantiles.1', 'var.quantiles.2', 'var.quantiles.3', 'var.quantiles.4', 'var_importance.quantiles.0', 'var_importance.quantiles.1', 'var_importance.quantiles.2', 'var_importance.quantiles.3', 'var_importance.quantiles.4', 'w_lambda', 'worst_node.quantiles.0', 'worst_node.quantiles.1', 'worst_node.quantiles.2', 'worst_node.quantiles.3', 'worst_node.quantiles.4'], [6.369666416946446e-07, 0.003446231291452004, 0.011876971487219334, 0.06250158453926385, 0.9019571946532101, 0.08524302584619818, 0.4431565941120929, 0.7983386963307958, 1.2914297369382235, 2.634134749840698, 0.06227758007117438, 0.21428571428571427, 0.22908834586466165, 0.23214285714285715, 0.25, 0.25, nan, nan, nan, nan, nan, nan, 0.017231241145325094, 0.2678937021710781, 0.5412948160851693, 0.6673841380828507, 1.0000000000009446, 3.5660954912334497, 7.956687838176419e-05, 0.03323251939178119, 0.06948760051863591, 0.13635644142651815, 0.9525985540982554, 3.171763690918555e-06, 0.0028355567396806704, 0.0070095977569287395, 0.0158588184545898, 0.21442391256081852, 2.0418950299310688e-17, 0.012495166992341829, 0.04915980883469041, 0.15647520035535967, 1.282821550590635, 0.03508771929824561, 0.07142857142857142, 0.07142857142857142, 0.07142857142857142, 0.07142857142857142, 7.874730026412702, 0.03558718861209965, 0.03558718861209965, 0.03558718861209965, 0.07829181494661921, 0.16370106761565836, 0.0, 0.0, 0.0, 0.0, 0.0, 2.0379481137108706, 0.0, 0.0, 0.0, 0.0, 0.0, 16.057142857142857, 0.0, 0.0, 0.0, 1.0, 1.0, 3.5660998945338758, 3.6801699091746625, 3.82929427573178, 4.195346021982138, 5.57219057149742, -2.0035050742991163, -0.8564070788807246, 2.0066270240773365, 8.752240170917887, 88.35149399635323, 63, 2.0, 8.0, 11.0, 13.0, 17.0, 0.0017793594306049821, 0.0026690391459074734, 0.0035587188612099642, 0.02313167259786477, 0.1103202846975089, 126.0, 2016.0, 11729.454545454546, 39699.692307692305, 485737.4117647059, 0.015873015873015872, 0.015873015873015872, 0.015873015873015872, 0.07936507936507936, 0.25396825396825395, nan, 0.7857142857142857, 0.8928571428571429, 0.9027255639097744, 0.96906328320802, 1.0, 0.0, 0.0, 0.0, 0.0, 0.0, 1.0, 1.0, 1.0, 1.0, 1.0, 0.010676156583629894, 0.0791814946619217, 0.1708185053380783, 0.5427046263345195, 0.9804270462633452, 0.0, 0.0, 0.0, 1.0, 1.0, 0.0, 0.0, 0.0, 0.0, 0.0, 0.05387616663355832, 0.1645046628004876, 0.36779814354374984, 0.6464137682830162, 1.209322753318868, 0.7543859649122807, 0.8258928571428571, 0.8660714285714286, 0.8766447368421052, 0.9642857142857143, 62, 0.9841269841269841, 0.1103202846975089, 1.0, 2.0, 3.0, 5.0, 7.0, 1.0, 1.0, 1.0, 2.0, 4.0, 35, 17, 35, 15, 0.02304147465437788, nan, 562, 0.0, 0, 46, 1.058737737782718, 0.0, 0.7678571428571429, 0.8811090225563909, 0.9196428571428572, 0.9295112781954887, 0.9821428571428571, nan, 0.125, 0.16071428571428573, 0.16071428571428573, 0.17543859649122806, 0.25, 1.0, 1.0, 1.0, 1.0, 1.0, nan, 0.10286400572067084, 0.2602697029761836, 0.35332791974953115, 0.44112243375590976, 0.5004422654361697, nan, -6.9176954176197425, -0.1709875834704165, 1.7446686919557544, 3.1087802691365325, 9.497066675536004, 0.1413292589763178, 0.3321449792038027, 0.3321449792038027, 0.49910873440285203, 0.49910873440285203, 0.0, 0.0, 0.0, 0.5710059171597633, 1.0, 0.0, 7.0, 10.0, 12.0, 17.0, 3.051693258826471e-05, 0.0012195056425173911, 0.011623946278419239, 0.030580376940240697, 0.28916452976398893, 0.00012969970703125, 0.0015869140625, 0.00537109375, 0.03125, 0.5, 0.010581003672902201, 0.06774887243800762, 0.12484061887453114, 0.19462734948395405, 0.2504424610348857, 0.0, 0.0, 0.005828436252964554, 0.016888483603976094, 0.10332643538995144, nan, 0.15789473684210525, 0.16439536340852132, 0.17857142857142858, 0.17857142857142858, 0.19642857142857142])\n"
     ]
    }
   ],
   "source": [
    "print(ft)"
   ]
  },
  {
   "cell_type": "code",
   "execution_count": null,
   "metadata": {},
   "outputs": [],
   "source": []
  },
  {
   "cell_type": "code",
   "execution_count": null,
   "metadata": {},
   "outputs": [],
   "source": []
  },
  {
   "cell_type": "code",
   "execution_count": null,
   "metadata": {},
   "outputs": [],
   "source": []
  }
 ],
 "metadata": {
  "kernelspec": {
   "display_name": ".venv",
   "language": "python",
   "name": "python3"
  },
  "language_info": {
   "codemirror_mode": {
    "name": "ipython",
    "version": 3
   },
   "file_extension": ".py",
   "mimetype": "text/x-python",
   "name": "python",
   "nbconvert_exporter": "python",
   "pygments_lexer": "ipython3",
   "version": "3.9.13"
  }
 },
 "nbformat": 4,
 "nbformat_minor": 2
}
